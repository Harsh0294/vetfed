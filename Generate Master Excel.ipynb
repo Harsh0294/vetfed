{
 "cells": [
  {
   "cell_type": "code",
   "execution_count": 1,
   "metadata": {
    "collapsed": true
   },
   "outputs": [],
   "source": [
    "import pandas as pd"
   ]
  },
  {
   "cell_type": "code",
   "execution_count": 2,
   "metadata": {
    "collapsed": true
   },
   "outputs": [],
   "source": [
    "state_abbreviations = pd.read_csv(\"state_abbreviation.csv\")\n",
    "state_abbreviations_dict = {}\n",
    "for _, row in state_abbreviations.iterrows():\n",
    "    row = list(row)\n",
    "    state_abbreviations_dict[row[0]] = row[1]"
   ]
  },
  {
   "cell_type": "code",
   "execution_count": 3,
   "metadata": {
    "collapsed": true
   },
   "outputs": [],
   "source": [
    "region_1_states = [\"Washington\", \"Oregon\",\"California\",\"Nevada\",\"Arizona\",\"New Mexico\",\"Utah\",\"Idaho\",\"Montana\",\"Alaska\",\"Hawaii\"]\n",
    "region_2_states = [\"Maine\",\"New Hampshire\",\"Vermont\",\"Connecticut\",\"Massachusetts\",\"Rhode Island\",\"New York\",\"New Jersey\",\"Pennsylvania\",\"Delaware\",\"Ohio\",\"Indiana\",\"Michigan\",\"Illinois\",\"Missouri\"]\n",
    "region_3_states = [\"Maryland\",\"Virginia\",\"West Virginia\",\"Kentucky\",\"Tennessee\",\"North Carolina\",\"South Carolina\",\"Georgia\",\"Florida\",\"Alabama\",\"Mississippi\",\"Louisiana\",\"Arkansas\"]\n",
    "region_4_states = [\"Wisconsin\",\"North Dakota\",\"South Dakota\",\"Minnesota\",\"Wyoming\",\"Iowa\",\"Nebraska\",\"Kansas\",\"Colorado\",\"Oklahoma\",\"Texas\"]\n"
   ]
  },
  {
   "cell_type": "code",
   "execution_count": 4,
   "metadata": {},
   "outputs": [
    {
     "name": "stdout",
     "output_type": "stream",
     "text": [
      ".DS_Stor\n",
      "Four Regions\n",
      "Prototype\n",
      "New\n"
     ]
    }
   ],
   "source": [
    "from os import listdir\n",
    "from os.path import isfile, join\n",
    "mypath = \"./Output Files\"\n",
    "directories = [f for f in listdir(mypath)]\n",
    "\n",
    "\n",
    "clinic_xls_1 = []\n",
    "demand_xls_1 = []\n",
    "\n",
    "clinic_xls_2 = []\n",
    "demand_xls_2 = []\n",
    "\n",
    "clinic_xls_3 = []\n",
    "demand_xls_3 = []\n",
    "\n",
    "clinic_xls_4 = []\n",
    "demand_xls_4 = []\n",
    "\n",
    "for d in directories:\n",
    "    state = d[:d.rfind(' ')]\n",
    "    if state in region_1_states:\n",
    "        clinic_xls_1.append(\"./Output Files/\"+d+\"/All_Clinics_\"+state_abbreviations_dict[state]+\".xls\")\n",
    "        demand_xls_1.append(\"./Output Files/\"+d+\"/Demand_Clustered_\"+state_abbreviations_dict[state]+\".xls\")\n",
    "    elif state in region_2_states:\n",
    "        clinic_xls_2.append(\"./Output Files/\"+d+\"/All_Clinics_\"+state_abbreviations_dict[state]+\".xls\")\n",
    "        demand_xls_2.append(\"./Output Files/\"+d+\"/Demand_Clustered_\"+state_abbreviations_dict[state]+\".xls\")\n",
    "    elif state in region_3_states:\n",
    "        clinic_xls_3.append(\"./Output Files/\"+d+\"/All_Clinics_\"+state_abbreviations_dict[state]+\".xls\")\n",
    "        demand_xls_3.append(\"./Output Files/\"+d+\"/Demand_Clustered_\"+state_abbreviations_dict[state]+\".xls\")\n",
    "    elif state in region_4_states:\n",
    "        clinic_xls_4.append(\"./Output Files/\"+d+\"/All_Clinics_\"+state_abbreviations_dict[state]+\".xls\")\n",
    "        demand_xls_4.append(\"./Output Files/\"+d+\"/Demand_Clustered_\"+state_abbreviations_dict[state]+\".xls\")\n",
    "    else:\n",
    "        print(state)\n",
    "        \n",
    "        \n",
    "        \n",
    "clinic_xls_pd_1 = []\n",
    "demand_xls_pd_1 = []\n",
    "\n",
    "clinic_xls_pd_2 = []\n",
    "demand_xls_pd_2 = []\n",
    "\n",
    "clinic_xls_pd_3 = []\n",
    "demand_xls_pd_3 = []\n",
    "\n",
    "clinic_xls_pd_4 = []\n",
    "demand_xls_pd_4 = []\n",
    "\n",
    "\n",
    "for f in clinic_xls_1:\n",
    "    clinic_xls_pd_1.append(pd.read_excel(f))\n",
    "\n",
    "for f in demand_xls_1:\n",
    "    demand_xls_pd_1.append(pd.read_excel(f))    \n",
    "    \n",
    "for f in clinic_xls_2:\n",
    "    clinic_xls_pd_2.append(pd.read_excel(f))\n",
    "\n",
    "for f in demand_xls_2:\n",
    "    demand_xls_pd_2.append(pd.read_excel(f))\n",
    "    \n",
    "    \n",
    "for f in clinic_xls_3:\n",
    "    clinic_xls_pd_3.append(pd.read_excel(f))\n",
    "\n",
    "for f in demand_xls_3:\n",
    "    demand_xls_pd_3.append(pd.read_excel(f))\n",
    "    \n",
    "\n",
    "for f in clinic_xls_4:\n",
    "    clinic_xls_pd_4.append(pd.read_excel(f))\n",
    "\n",
    "for f in demand_xls_4:\n",
    "    demand_xls_pd_4.append(pd.read_excel(f))\n",
    "    \n"
   ]
  },
  {
   "cell_type": "code",
   "execution_count": 5,
   "metadata": {},
   "outputs": [
    {
     "data": {
      "text/plain": [
       "50"
      ]
     },
     "execution_count": 5,
     "metadata": {},
     "output_type": "execute_result"
    }
   ],
   "source": [
    "len(clinic_xls_1) + len(clinic_xls_2) + len(clinic_xls_3) + len(clinic_xls_4)"
   ]
  },
  {
   "cell_type": "code",
   "execution_count": 6,
   "metadata": {
    "collapsed": true
   },
   "outputs": [],
   "source": [
    "clinics_1 = pd.concat(clinic_xls_pd_1)\n",
    "clinics_2 = pd.concat(clinic_xls_pd_2)\n",
    "clinics_3 = pd.concat(clinic_xls_pd_3)\n",
    "clinics_4 = pd.concat(clinic_xls_pd_4)"
   ]
  },
  {
   "cell_type": "code",
   "execution_count": 7,
   "metadata": {
    "collapsed": true
   },
   "outputs": [],
   "source": [
    "demand_1 = pd.concat(demand_xls_pd_1)\n",
    "demand_2 = pd.concat(demand_xls_pd_2)\n",
    "demand_3 = pd.concat(demand_xls_pd_3)\n",
    "demand_4 = pd.concat(demand_xls_pd_4)"
   ]
  },
  {
   "cell_type": "code",
   "execution_count": 8,
   "metadata": {},
   "outputs": [],
   "source": [
    "clinics_1.to_excel(\"all_clinics_R1.xls\")\n",
    "clinics_2.to_excel(\"all_clinics_R2.xls\")\n",
    "clinics_3.to_excel(\"all_clinics_R3.xls\")\n",
    "clinics_4.to_excel(\"all_clinics_R4.xls\")"
   ]
  },
  {
   "cell_type": "code",
   "execution_count": 10,
   "metadata": {},
   "outputs": [],
   "source": [
    "demand_1.to_excel(\"all_demand_R1.xls\")\n",
    "demand_2.to_excel(\"all_demand_R2.xls\")\n",
    "demand_3.to_excel(\"all_demand_R3.xls\")\n",
    "demand_4.to_excel(\"all_demand_R4.xls\")"
   ]
  },
  {
   "cell_type": "code",
   "execution_count": 13,
   "metadata": {},
   "outputs": [],
   "source": [
    "all_clinics = clinic_xls_pd_1+clinic_xls_pd_2+clinic_xls_pd_3+clinic_xls_pd_4\n",
    "all_demand = demand_xls_pd_1+demand_xls_pd_2+demand_xls_pd_3+demand_xls_pd_4"
   ]
  },
  {
   "cell_type": "code",
   "execution_count": 15,
   "metadata": {},
   "outputs": [],
   "source": [
    "pd.concat(all_clinics).to_excel(\"all_clinics_US.xls\")\n",
    "pd.concat(all_demand).to_excel(\"all_demand_US.xls\")"
   ]
  },
  {
   "cell_type": "code",
   "execution_count": null,
   "metadata": {
    "collapsed": true
   },
   "outputs": [],
   "source": []
  }
 ],
 "metadata": {
  "kernelspec": {
   "display_name": "Python 3",
   "language": "python",
   "name": "python3"
  },
  "language_info": {
   "codemirror_mode": {
    "name": "ipython",
    "version": 3
   },
   "file_extension": ".py",
   "mimetype": "text/x-python",
   "name": "python",
   "nbconvert_exporter": "python",
   "pygments_lexer": "ipython3",
   "version": "3.6.5"
  }
 },
 "nbformat": 4,
 "nbformat_minor": 2
}
